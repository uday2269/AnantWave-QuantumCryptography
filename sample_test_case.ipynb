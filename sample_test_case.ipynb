pip install pennylane
import pennylane as qml
import numpy as np
num_qubits = 10
alice_bits = np.random.randint(0, 2, num_qubits)
alice_bases = np.random.randint(0, 2, num_qubits)
bob_bases = np.random.randint(0, 2, num_qubits)
dev = qml.device("default.qubit", wires=1)
@qml.qnode(dev)
def prepare_and_measure(bit, basis, measure_basis):
    if basis == 1:
        qml.Hadamard(wires=0)
    if bit == 1:
        qml.PauliX(wires=0) 
    if measure_basis == 1:
        qml.Hadamard(wires=0)  
    return qml.probs(wires=0)  
bob_bits = [np.random.choice([0, 1], p=prepare_and_measure(alice_bits[i], alice_bases[i], bob_bases[i])) for i in range(num_qubits)]
matching_indices = np.where(alice_bases == bob_bases)[0]
shared_key = [bob_bits[i] for i in matching_indices]
print("Alice's bits:   ", alice_bits)
print("Alice's bases:  ", alice_bases)
print("Bob's bases:    ", bob_bases)
print("Bob's bits:     ", bob_bits)
print("Matching indices:", matching_indices)
print("Final Secret Key:", shared_key)
